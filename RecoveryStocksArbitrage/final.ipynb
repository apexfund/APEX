{
 "cells": [
  {
   "cell_type": "markdown",
   "metadata": {},
   "source": [
    "# IMPORTS "
   ]
  },
  {
   "cell_type": "code",
   "execution_count": 15,
   "metadata": {},
   "outputs": [],
   "source": [
    "import numpy as np\n",
    "import pandas as pd\n",
    "import sys\n",
    "import gc\n",
    "import joblib\n",
    "import pathlib\n",
    "import json\n",
    "import glob\n",
    "from tqdm.notebook import tqdm\n",
    "\n",
    "# visualize\n",
    "import matplotlib.pyplot as plt\n",
    "import matplotlib.style as style\n",
    "import plotly.express as px\n",
    "import seaborn as sns\n",
    "from matplotlib import pyplot\n",
    "from matplotlib.ticker import ScalarFormatter\n",
    "sns.set_context(\"talk\")\n",
    "style.use('seaborn-colorblind')\n",
    "\n",
    "import plotly.graph_objects as go\n",
    "import yfinance as yf\n",
    "import statistics as st"
   ]
  },
  {
   "cell_type": "markdown",
   "metadata": {},
   "source": [
    "# Part 1. Is the Monday Effect Real?\n",
    "## What is The Monday Effect?\n",
    "According to Investopedia.com, **The Monday Effect** is \"a financial theory that suggests that stock market returns will follow the prevailing trends from the previous Friday when it opens the following Monday.\" Then for a Security A, if A was trending down on Friday January 1st, the intraday percentage change $$\\mathrm{pct\\_change}(A, \\mathrm{''Friday, January, 01''}) < 0,$$ then the Monday Effect implies that the $$\\mathrm{pct\\_change}(A, \\mathrm{''Monday, January, 04''}) < 0$$\n",
    "and vise versa if the Friday experienced a posituve percentage change.\n",
    "\n",
    "## The History of The Monday Effect\n",
    "So I certainly am not the first person to ever look at this effect. **The Monday Effect** is a financial markets anomaly that was originally discovered and researched by Frank Cross in 1973 (Seen here: [\"Frank Cross' Research on The Monday Effect\"](https://dailyspeculations.com/scholarly/faj.v29.n6.67.pdf )). \n",
    "Here's the TLDR:\n",
    "* Cross looked at the Standard & Poor's 500 Composite Index from 1953 to 1970. 1953 is significant because it was the first year the market closed on Saturdays.\n",
    "* The probability that the SP500 Composite Index trended positive on a Monday given it also trended up on the preceding Friday is ~$48.8\\%$\n",
    "* The average percent change of the SP500 Composite on Monday's after a positive trending Friday was $0\\%$\n",
    "* The median percent change of the SP500 Copmositve on Monday's after a positive trending Friday was $0\\%$\n",
    "* The probability that the SP500 Composite Index trended positive on a Monday given it also trended down on the preceding Friday is ~$24.0\\%$\n",
    "* The average percent change of the SP500 Composite on Monday's after a negative trending Friday was $-0.48\\%$\n",
    "* The median percent change of the SP500 Copmositve on Monday's after a negative trending Friday was $-0.40\\%$\n",
    "\n",
    "## What Factors Impact The Monday Effect?\n",
    "To begin, **The Monday Effect**, is not a perfect estimator of where the market will be headed on a Monday. There are so many factors welded deep into the market that dictate where the market goes. These factors include, earnings, breaking news, supply and demand, even global economic and social conditions (just as seen with the COVID-19 pandemic in 2020 and the subsequent high volatility markets since then).\n",
    "\n",
    "However, part of this research will try to find out if we can dig a little deeper and find out if there are predictors built into the market. Frank Cross used the SP500 Composite Index to perform his research. I aim to replicate this trial first with the SPDR S&P 500 ETF Trust, an exchange-traded fund which tracks the S&P 500 stock market index, but using a more recent scope of time. The second goal of this project will be to breakdown the S&P 500 into the securities that form it and to use a Bayesian Classifier Algorithm to see if we can use the trends of each individual seucrity to predict how the overall index will move."
   ]
  },
  {
   "cell_type": "code",
   "execution_count": 16,
   "metadata": {},
   "outputs": [],
   "source": [
    "# Get historical data\n",
    "spy_df = yf.Ticker(\"SPY\").history(start = \"2012-01-01\", end = \"2022-06-01\", period = \"1d\", interval = \"1d\")\n",
    "# Reset index so we can do some manipulation\n",
    "spy_df = spy_df.reset_index(0)\n",
    "# We are analyzing by day so we need to add a day of the week to each \n",
    "spy_df['Dayofweek'] = pd.to_datetime(spy_df['Date']).dt.dayofweek\n",
    "# Drop the rcolumns that are excess data\n",
    "spy_df = spy_df.drop(columns=['High','Low','Dividends', 'Stock Splits'])\n",
    "# Add a daily percentage change column \n",
    "spy_df['Pct_Change'] = (spy_df['Close'] / spy_df['Open'] - 1)*100\n",
    "# Add a boolean that represents the percentage change (will be useful to make comparisons later on)\n",
    "spy_df['Change'] = spy_df['Pct_Change'] > 0\n",
    "# Rearrange some of these new columns now\n",
    "spy_df = spy_df.reindex(columns = ['Date', 'Dayofweek', 'Open', 'Close', 'Volume', 'Pct_Change', 'Change'])"
   ]
  },
  {
   "cell_type": "markdown",
   "metadata": {},
   "source": [
    "## How do we define pairings between Fridays and Mondays historically?\n",
    "So, the Monday Effect technically is only defined in general as a pattern between Fridays and the following Monday. However, because of bank holidays, a Friday does not necessarily need to be the last day of a week and a Monday does not necessarily need to be the first day of the week, in this context Therefore, I had to come up with a different way to keep track of \"Friday\"-\"Monday\" pairings."
   ]
  },
  {
   "cell_type": "code",
   "execution_count": 17,
   "metadata": {},
   "outputs": [],
   "source": [
    "# To make it easier to keep track of the days, I also add the week and the year\n",
    "spy_df['Week'] = spy_df['Date'].dt.isocalendar().week\n",
    "spy_df['Year'] = spy_df['Date'].dt.isocalendar().year"
   ]
  },
  {
   "cell_type": "code",
   "execution_count": 18,
   "metadata": {},
   "outputs": [
    {
     "data": {
      "text/html": [
       "<div>\n",
       "<style scoped>\n",
       "    .dataframe tbody tr th:only-of-type {\n",
       "        vertical-align: middle;\n",
       "    }\n",
       "\n",
       "    .dataframe tbody tr th {\n",
       "        vertical-align: top;\n",
       "    }\n",
       "\n",
       "    .dataframe thead th {\n",
       "        text-align: right;\n",
       "    }\n",
       "</style>\n",
       "<table border=\"1\" class=\"dataframe\">\n",
       "  <thead>\n",
       "    <tr style=\"text-align: right;\">\n",
       "      <th></th>\n",
       "      <th>Date</th>\n",
       "      <th>Dayofweek</th>\n",
       "      <th>Open</th>\n",
       "      <th>Close</th>\n",
       "      <th>Volume</th>\n",
       "      <th>Pct_Change</th>\n",
       "      <th>Change</th>\n",
       "      <th>Week</th>\n",
       "      <th>Year</th>\n",
       "    </tr>\n",
       "  </thead>\n",
       "  <tbody>\n",
       "    <tr>\n",
       "      <th>0</th>\n",
       "      <td>2012-01-03</td>\n",
       "      <td>1</td>\n",
       "      <td>104.284126</td>\n",
       "      <td>104.071899</td>\n",
       "      <td>193697900</td>\n",
       "      <td>-0.203508</td>\n",
       "      <td>False</td>\n",
       "      <td>1</td>\n",
       "      <td>2012</td>\n",
       "    </tr>\n",
       "    <tr>\n",
       "      <th>1</th>\n",
       "      <td>2012-01-04</td>\n",
       "      <td>2</td>\n",
       "      <td>103.827013</td>\n",
       "      <td>104.235138</td>\n",
       "      <td>127186500</td>\n",
       "      <td>0.393082</td>\n",
       "      <td>True</td>\n",
       "      <td>1</td>\n",
       "      <td>2012</td>\n",
       "    </tr>\n",
       "    <tr>\n",
       "      <th>2</th>\n",
       "      <td>2012-01-05</td>\n",
       "      <td>3</td>\n",
       "      <td>103.671942</td>\n",
       "      <td>104.512672</td>\n",
       "      <td>173895000</td>\n",
       "      <td>0.810953</td>\n",
       "      <td>True</td>\n",
       "      <td>1</td>\n",
       "      <td>2012</td>\n",
       "    </tr>\n",
       "    <tr>\n",
       "      <th>3</th>\n",
       "      <td>2012-01-06</td>\n",
       "      <td>4</td>\n",
       "      <td>104.643285</td>\n",
       "      <td>104.243324</td>\n",
       "      <td>148050000</td>\n",
       "      <td>-0.382214</td>\n",
       "      <td>False</td>\n",
       "      <td>1</td>\n",
       "      <td>2012</td>\n",
       "    </tr>\n",
       "    <tr>\n",
       "      <th>4</th>\n",
       "      <td>2012-01-09</td>\n",
       "      <td>0</td>\n",
       "      <td>104.480025</td>\n",
       "      <td>104.496353</td>\n",
       "      <td>99530200</td>\n",
       "      <td>0.015628</td>\n",
       "      <td>True</td>\n",
       "      <td>2</td>\n",
       "      <td>2012</td>\n",
       "    </tr>\n",
       "  </tbody>\n",
       "</table>\n",
       "</div>"
      ],
      "text/plain": [
       "        Date  Dayofweek        Open       Close     Volume  Pct_Change  \\\n",
       "0 2012-01-03          1  104.284126  104.071899  193697900   -0.203508   \n",
       "1 2012-01-04          2  103.827013  104.235138  127186500    0.393082   \n",
       "2 2012-01-05          3  103.671942  104.512672  173895000    0.810953   \n",
       "3 2012-01-06          4  104.643285  104.243324  148050000   -0.382214   \n",
       "4 2012-01-09          0  104.480025  104.496353   99530200    0.015628   \n",
       "\n",
       "   Change  Week  Year  \n",
       "0   False     1  2012  \n",
       "1    True     1  2012  \n",
       "2    True     1  2012  \n",
       "3   False     1  2012  \n",
       "4    True     2  2012  "
      ]
     },
     "execution_count": 18,
     "metadata": {},
     "output_type": "execute_result"
    }
   ],
   "source": [
    "# Lets take a look at our dataframe after some of that processing\n",
    "spy_df.head()"
   ]
  },
  {
   "cell_type": "code",
   "execution_count": 19,
   "metadata": {},
   "outputs": [],
   "source": [
    "# identify the \"friday\" \"monday\" pairings\n",
    "pairs = []\n",
    "for index, item in spy_df.iterrows():\n",
    "    # given current day, check if the next day belongs to the next week, if so then we can keep current day and the next day\n",
    "    if index+1 < len(spy_df) and item.Week != spy_df.iloc[index+1].Week:\n",
    "        pairs.append((spy_df.iloc[index], spy_df.iloc[index+1]))"
   ]
  },
  {
   "cell_type": "code",
   "execution_count": 20,
   "metadata": {},
   "outputs": [
    {
     "name": "stdout",
     "output_type": "stream",
     "text": [
      "55.33% of the 300 positive \"Fridays\" were followed by a positive \"Monday\" with an average increase of 0.3842%\n",
      "44.67% of the 300 positive \"Fridays\" were followed by a negative \"Monday\" with an average decrease of -0.454%\n",
      "This yields an average change after a positive \"Friday\" of 0.0098 with standard deviation 0.6512\n",
      "56.38% of the 243 negative \"Fridays\" were followed by a positive \"Monday\" with an average increase of 0.5027%\n",
      "35.33% of the 243 negative \"Fridays\" were followed by a negative \"Monday\" with an average decrease of -0.5871%\n",
      "This yields an average change after a negative \"Friday\" of 0.0273 with standard deviation 0.7629\n"
     ]
    }
   ],
   "source": [
    "pos_pos = []\n",
    "pos_neg = []\n",
    "neg_pos = []\n",
    "neg_neg = []\n",
    "for pair in pairs:\n",
    "    day1 = pair[0]\n",
    "    day2 = pair[1]\n",
    "    if day1.Change and day2.Change:\n",
    "        pos_pos.append(day2.Pct_Change)\n",
    "    elif day1.Change and not day2.Change:\n",
    "        pos_neg.append(day2.Pct_Change)\n",
    "    elif not day1.Change and day2.Change:\n",
    "        neg_pos.append(day2.Pct_Change)\n",
    "    else:\n",
    "        neg_neg.append(day2.Pct_Change)\n",
    "\n",
    "total_pos = (pos_pos + pos_neg)\n",
    "total_neg = (neg_pos + neg_neg)\n",
    "avg_pos_pos = st.mean(pos_pos)\n",
    "avg_pos_neg = st.mean(pos_neg)\n",
    "avg_neg_pos = st.mean(neg_pos)\n",
    "avg_neg_neg = st.mean(neg_neg)\n",
    "\n",
    "print(f'{round(len(pos_pos) * 100/len(total_pos), 2)}% of the {len(total_pos)} positive \"Fridays\" were followed by a positive \"Monday\" with an average increase of {round(avg_pos_pos, 4)}%')\n",
    "print(f'{round(len(pos_neg) * 100/len(total_pos), 2)}% of the {len(total_pos)} positive \"Fridays\" were followed by a negative \"Monday\" with an average decrease of {round(avg_pos_neg, 4)}%')\n",
    "print(f'This yields an average change after a positive \"Friday\" of {round(st.mean(total_pos), 4)} with standard deviation {round(st.stdev(total_pos), 4)}')\n",
    "print(f'{round(len(neg_pos) * 100/len(total_neg), 2)}% of the {len(total_neg)} negative \"Fridays\" were followed by a positive \"Monday\" with an average increase of {round(avg_neg_pos,4)}%')\n",
    "print(f'{round(len(neg_neg) * 100/len(total_pos), 2)}% of the {len(total_neg)} negative \"Fridays\" were followed by a negative \"Monday\" with an average decrease of {round(avg_neg_neg, 4)}%')\n",
    "print(f'This yields an average change after a negative \"Friday\" of {round(st.mean(total_neg), 4)} with standard deviation {round(st.stdev(total_neg), 4)}')\n"
   ]
  },
  {
   "cell_type": "markdown",
   "metadata": {},
   "source": [
    "At face value it looks like **The Monday Effect** does not quite hold much value. When we look at the predictability conditioning on the return of the \"Friday\" before it is just about 55-56% in both cases. Let's test this out with a more theoretical approach via a **Two Sample T-test**. \n",
    "\n",
    "## Two Sample T-Test: Comparing Returns of Positive \"Fridays\" to Negative \"Fridays\"\n",
    "The two-sample t-test (also known as the independent samples t-test) is a method used to test whether the unknown population means of two groups are equal or not. We can use this test when our two samples follow an approximately normal distribution. In this case, while we do not know the exact distribution of the returns, we can apply the **Central Limit Theorem (CLT)** to claim that both the Positive Fridays and the Negative Fridays samples follow an approximately normal distribution. Just to see if the assumption fails, lets plot the density of each sample population."
   ]
  },
  {
   "cell_type": "code",
   "execution_count": 60,
   "metadata": {},
   "outputs": [
    {
     "data": {
      "image/png": "[encoded data removed]",
      "text/plain": [
       "<Figure size 432x288 with 1 Axes>"
      ]
     },
     "metadata": {
      "needs_background": "light"
     },
     "output_type": "display_data"
    }
   ],
   "source": [
    "from scipy.stats import norm\n",
    "  \n",
    "\n",
    "\n",
    "plt.hist(neg_pos+neg_neg, bins=30, density=True, color='b')\n",
    "\n",
    "plt.title(\"Negative 'Fridays' Return On Mondays Histogram\")\n",
    "plt.xlabel(\"Return in Percent\")\n",
    "plt.ylabel(\"Proportion of Days\")\n",
    "\n",
    "# Fitting a normal distribution to compare against\n",
    "mu, std = norm.fit(neg_pos+neg_neg) \n",
    "xmin, xmax = plt.xlim()\n",
    "x = np.linspace(xmin, xmax, 100)\n",
    "p = norm.pdf(x, mu, std)\n",
    "  \n",
    "plt.plot(x, p, 'k', linewidth=2)\n",
    "\n",
    "  \n",
    "plt.show()"
   ]
  },
  {
   "cell_type": "code",
   "execution_count": 62,
   "metadata": {},
   "outputs": [
    {
     "data": {
      "image/png": "[encoded data removed]",
      "text/plain": [
       "<Figure size 432x288 with 1 Axes>"
      ]
     },
     "metadata": {
      "needs_background": "light"
     },
     "output_type": "display_data"
    }
   ],
   "source": [
    "plt.hist(pos_pos+pos_neg, bins=30, density=True, color='b')\n",
    "plt.title(\"Positive 'Fridays' Return On Mondays Histogram\")\n",
    "plt.xlabel(\"Return in Percent\")\n",
    "plt.ylabel(\"Number of Days\")\n",
    "\n",
    "# Fitting a normal distribution to compare against\n",
    "mu, std = norm.fit(pos_neg+pos_pos) \n",
    "xmin, xmax = plt.xlim()\n",
    "x = np.linspace(xmin, xmax, 100)\n",
    "p = norm.pdf(x, mu, std)\n",
    "  \n",
    "plt.plot(x, p, 'k', linewidth=2)\n",
    "\n",
    "plt.show()"
   ]
  },
  {
   "cell_type": "markdown",
   "metadata": {},
   "source": [
    "From the histograms and the normal distributions fitted to each dataset, we can see that the data does fit an approximately normal distribution (the main differnece being the higher peak around 0). With that shown, lets conduct our Two Sample T-test based on the scipy library function. For this Two Sample T-test we will also need to define hypothesis and the population means we are comparing:\n",
    "\n",
    "We will first define\n",
    "    $$\\mu_1\\space=\\space\\mathrm{The\\space Average\\space Return\\space After\\space a\\space Positive\\space \"Friday\"}\\quad\\mathrm{and}\\newline\n",
    "    \\mu_2\\space=\\space\\mathrm{The\\space Average\\space Return\\space After\\space a\\space Negative\\space \"Friday\"}$$\n",
    "    and a standard $\\alpha\\space=\\space0.05.\\newline$\n",
    "Then we can define our hypothesis:\n",
    "    $$H_O:\\space \\mu_1\\space=\\space\\mu_2$$\n",
    "    $$H_{Alt}:\\space \\mu_1\\space!=\\space\\mu_2$$"
   ]
  },
  {
   "cell_type": "code",
   "execution_count": 68,
   "metadata": {},
   "outputs": [
    {
     "data": {
      "text/plain": [
       "Ttest_indResult(statistic=-0.28444805696900594, pvalue=0.7761903859017505)"
      ]
     },
     "execution_count": 68,
     "metadata": {},
     "output_type": "execute_result"
    }
   ],
   "source": [
    "import scipy.stats as stats\n",
    "stats.ttest_ind(a=pos_neg+pos_pos, b=neg_pos+neg_neg, equal_var=False)"
   ]
  },
  {
   "cell_type": "markdown",
   "metadata": {},
   "source": [
    "## T-Test Results\n",
    "Since the p-value returned for this T-test is 0.776 and $0.776 > 0.05 = \\alpha$ we cannot reject our null hypothesis $H_O$ in favor of the alternative hypothesis $H_{Alt}$. This means that we can conclude with power 0.95 that the two populations have the same mean and that The Monday Effect is not a valid indicator of market performance, at least for the SP500.\n",
    "\n",
    "Where does that leave us now?\n",
    "\n",
    "Well, the next goal is to figure out some way of estimating whether an equity or ETF will have a positive daily percentage change or not. I hypothesize that we can use equities with high betas, beta(equity) > 1, to predict market movement."
   ]
  },
  {
   "cell_type": "markdown",
   "metadata": {},
   "source": [
    "## What is Beta?\n",
    "Beta($\\beta$) is a measure of volatility of a security compared to the market as a whole, typically using the S&P 500 as a basis. Also note that $$\\beta = \\frac{\\mathrm{Systematic\\space Risk + Unsystematic\\space Risk}}{Systematic\\space Risk}$$ where **Systematic Risk** is the risk inherent to the entire market or market segmnet, in this case the SP500 and **Unsystematic Risk** is the risk uncertainty associated with an individual stock or industry. Here's a few examples.\n",
    "\n",
    "$\\beta = 1$\n",
    "Indicates the equity is strongly correlated with the S&P 500 and does add any unsysteamtic risk.\n",
    "\n",
    "$\\beta < 1$\n",
    "Indicates the equity is less risky than the S&P 500 and typically moves more slowly than the market.\n",
    "\n",
    "$\\beta > 1$\n",
    "Indicates the equity is more volatile than the S&P 500, adding unsystematic risk.\n",
    "\n",
    "$\\beta < 0$\n",
    "Indicates an inverse correlation relationship witht he S&P 500, i.e. moves opposite of the S&P 500. Without loss of generality, mirror the above scenario to see what negative $\\beta$ values mean.\n",
    "\n",
    "For further reading, go to https://www.investopedia.com/terms/b/beta.asp."
   ]
  },
  {
   "cell_type": "markdown",
   "metadata": {},
   "source": []
  },
  {
   "cell_type": "markdown",
   "metadata": {},
   "source": [
    "# Part 2. Using High Beta S&P 500 Equities to Predict S&P 500 Movement"
   ]
  },
  {
   "cell_type": "markdown",
   "metadata": {},
   "source": []
  },
  {
   "cell_type": "markdown",
   "metadata": {},
   "source": []
  }
 ],
 "metadata": {
  "interpreter": {
   "hash": "40d3a090f54c6569ab1632332b64b2c03c39dcf918b08424e98f38b5ae0af88f"
  },
  "kernelspec": {
   "display_name": "Python 3.8.5 ('base')",
   "language": "python",
   "name": "python3"
  },
  "language_info": {
   "codemirror_mode": {
    "name": "ipython",
    "version": 3
   },
   "file_extension": ".py",
   "mimetype": "text/x-python",
   "name": "python",
   "nbconvert_exporter": "python",
   "pygments_lexer": "ipython3",
   "version": "3.8.5"
  },
  "orig_nbformat": 4
 },
 "nbformat": 4,
 "nbformat_minor": 2
}
