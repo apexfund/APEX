{
 "cells": [
  {
   "cell_type": "markdown",
   "metadata": {},
   "source": [
    "# IMPORTS "
   ]
  },
  {
   "cell_type": "code",
   "execution_count": 1,
   "metadata": {},
   "outputs": [],
   "source": [
    "import numpy as np\n",
    "import pandas as pd\n",
    "import sys\n",
    "import gc\n",
    "import joblib\n",
    "import pathlib\n",
    "import json\n",
    "import glob\n",
    "from tqdm.notebook import tqdm\n",
    "\n",
    "# visualize\n",
    "import matplotlib.pyplot as plt\n",
    "import matplotlib.style as style\n",
    "import plotly.express as px\n",
    "import seaborn as sns\n",
    "from matplotlib import pyplot\n",
    "from matplotlib.ticker import ScalarFormatter\n",
    "sns.set_context(\"talk\")\n",
    "style.use('seaborn-colorblind')\n",
    "\n",
    "import plotly.graph_objects as go\n",
    "import yfinance as yf\n",
    "import statistics as st"
   ]
  },
  {
   "cell_type": "markdown",
   "metadata": {},
   "source": [
    "# Introduction:\n",
    "## The Monday Effect\n",
    "According to Investopedia.com, **The Monday Effect** is \"a financial theory that suggests that stock market returns will follow the prevailing trends from the previous Friday when it opens the following Monday.\" Then for a Security A, if A was trending down on Friday January 1st, the intraday percentage change $$\\mathrm{pct\\_change}(A, \\mathrm{''Friday, January, 01''}) < 0,$$ then the Monday Effect implies that the $$\\mathrm{pct\\_change}(A, \\mathrm{''Monday, January, 04''}) < 0$$\n",
    "and vise versa if the Friday experienced a posituve percentage change.\n",
    "\n",
    "## The History of The Monday Effect\n",
    "So I certainly am not the first person to ever look at this effect. **The Monday Effect** is a financial markets anomaly that was originally discovered and researched by Frank Cross in 1973 (Seen here: [\"Frank Cross' Research on The Monday Effect\"](https://dailyspeculations.com/scholarly/faj.v29.n6.67.pdf )). \n",
    "Here's the TLDR:\n",
    "* Cross looked at the Standard & Poor's 500 Composite Index from 1953 to 1970. 1953 is significant because it was the first year the market closed on Saturdays.\n",
    "* The probability that the SP500 Composite Index trended positive on a Monday given it also trended up on the preceding Friday is ~$48.8\\%$\n",
    "* The average percent change of the SP500 Composite on Monday's after a positive trending Friday was $0\\%$\n",
    "* The median percent change of the SP500 Copmositve on Monday's after a positive trending Friday was $0\\%$\n",
    "* The probability that the SP500 Composite Index trended positive on a Monday given it also trended down on the preceding Friday is ~$24.0\\%$\n",
    "* The average percent change of the SP500 Composite on Monday's after a negative trending Friday was $-0.48\\%$\n",
    "* The median percent change of the SP500 Copmositve on Monday's after a negative trending Friday was $-0.40\\%$\n",
    "\n",
    "## What Factors Impact The Monday Effect?\n",
    "To begin, **The Monday Effect**, is not a perfect estimator of where the market will be headed on a Monday. There are so many factors welded deep into the market that dictate where the market goes. These factors include, earnings, breaking news, supply and demand, even global economic and social conditions (just as seen with the COVID-19 pandemic in 2020 and the subsequent high volatility markets since then).\n",
    "\n",
    "However, part of this research will try to find out if we can dig a little deeper and find out if there are predictors built into the market. Frank Cross used the SP500 Composite Index to perform his research. I aim to replicate this trial first with the SPDR S&P 500 ETF Trust, an exchange-traded fund which tracks the S&P 500 stock market index, but using a more recent scope of time. The second goal of this project will be to breakdown the S&P 500 into the securities that form it and to use a Bayesian Classifier Algorithm to see if we can use the trends of each individual seucrity to predict how the overall index will move."
   ]
  },
  {
   "cell_type": "code",
   "execution_count": 2,
   "metadata": {},
   "outputs": [],
   "source": [
    "# Get historical data\n",
    "spy_df = yf.Ticker(\"SPY\").history(start = \"2000-01-01\", end = \"2022-06-01\", period = \"1d\", interval = \"1d\")\n",
    "# Reset index so we can do some manipulation\n",
    "spy_df = spy_df.reset_index(0)\n",
    "# We are analyzing by day so we need to add a day of the week to each \n",
    "spy_df['Dayofweek'] = pd.to_datetime(spy_df['Date']).dt.dayofweek\n",
    "# Drop the rcolumns that are excess data\n",
    "spy_df = spy_df.drop(columns=['High','Low','Dividends', 'Stock Splits'])\n",
    "# Add a daily percentage change column \n",
    "spy_df['Pct_Change'] = (spy_df['Close'] / spy_df['Open'] - 1)*100\n",
    "# Add a boolean that represents the percentage change (will be useful to make comparisons later on)\n",
    "spy_df['Change'] = spy_df['Pct_Change'] > 0\n",
    "# Rearrange some of these new columns now\n",
    "spy_df = spy_df.reindex(columns = ['Date', 'Dayofweek', 'Open', 'Close', 'Volume', 'Pct_Change', 'Change'])"
   ]
  },
  {
   "cell_type": "markdown",
   "metadata": {},
   "source": [
    "## How do we define pairings between Fridays and Mondays historically?\n",
    "So, the Monday Effect technically is only defined in general as a pattern between Fridays and the following Monday. However, because of bank holidays, a Friday does not necessarily need to be the last day of a week and a Monday does not necessarily need to be the first day of the week, in this context Therefore, I had to come up with a different way to keep track of \"Friday\"-\"Monday\" pairings."
   ]
  },
  {
   "cell_type": "code",
   "execution_count": 3,
   "metadata": {},
   "outputs": [],
   "source": [
    "# To make it easier to keep track of the days, I also add the week and the year\n",
    "spy_df['Week'] = spy_df['Date'].dt.isocalendar().week\n",
    "spy_df['Year'] = spy_df['Date'].dt.isocalendar().year"
   ]
  },
  {
   "cell_type": "code",
   "execution_count": 4,
   "metadata": {},
   "outputs": [
    {
     "data": {
      "text/html": [
       "<div>\n",
       "<style scoped>\n",
       "    .dataframe tbody tr th:only-of-type {\n",
       "        vertical-align: middle;\n",
       "    }\n",
       "\n",
       "    .dataframe tbody tr th {\n",
       "        vertical-align: top;\n",
       "    }\n",
       "\n",
       "    .dataframe thead th {\n",
       "        text-align: right;\n",
       "    }\n",
       "</style>\n",
       "<table border=\"1\" class=\"dataframe\">\n",
       "  <thead>\n",
       "    <tr style=\"text-align: right;\">\n",
       "      <th></th>\n",
       "      <th>Date</th>\n",
       "      <th>Dayofweek</th>\n",
       "      <th>Open</th>\n",
       "      <th>Close</th>\n",
       "      <th>Volume</th>\n",
       "      <th>Pct_Change</th>\n",
       "      <th>Change</th>\n",
       "      <th>Week</th>\n",
       "      <th>Year</th>\n",
       "    </tr>\n",
       "  </thead>\n",
       "  <tbody>\n",
       "    <tr>\n",
       "      <th>0</th>\n",
       "      <td>2000-01-03</td>\n",
       "      <td>0</td>\n",
       "      <td>97.598048</td>\n",
       "      <td>95.746483</td>\n",
       "      <td>8164300</td>\n",
       "      <td>-1.897133</td>\n",
       "      <td>False</td>\n",
       "      <td>1</td>\n",
       "      <td>2000</td>\n",
       "    </tr>\n",
       "    <tr>\n",
       "      <th>1</th>\n",
       "      <td>2000-01-04</td>\n",
       "      <td>1</td>\n",
       "      <td>94.491508</td>\n",
       "      <td>92.002182</td>\n",
       "      <td>8089800</td>\n",
       "      <td>-2.634444</td>\n",
       "      <td>False</td>\n",
       "      <td>1</td>\n",
       "      <td>2000</td>\n",
       "    </tr>\n",
       "    <tr>\n",
       "      <th>2</th>\n",
       "      <td>2000-01-05</td>\n",
       "      <td>2</td>\n",
       "      <td>92.125648</td>\n",
       "      <td>92.166794</td>\n",
       "      <td>12177900</td>\n",
       "      <td>0.044663</td>\n",
       "      <td>True</td>\n",
       "      <td>1</td>\n",
       "      <td>2000</td>\n",
       "    </tr>\n",
       "    <tr>\n",
       "      <th>3</th>\n",
       "      <td>2000-01-06</td>\n",
       "      <td>3</td>\n",
       "      <td>91.919908</td>\n",
       "      <td>90.685532</td>\n",
       "      <td>6227200</td>\n",
       "      <td>-1.342883</td>\n",
       "      <td>False</td>\n",
       "      <td>1</td>\n",
       "      <td>2000</td>\n",
       "    </tr>\n",
       "    <tr>\n",
       "      <th>4</th>\n",
       "      <td>2000-01-07</td>\n",
       "      <td>4</td>\n",
       "      <td>92.372517</td>\n",
       "      <td>95.952209</td>\n",
       "      <td>8066500</td>\n",
       "      <td>3.875278</td>\n",
       "      <td>True</td>\n",
       "      <td>1</td>\n",
       "      <td>2000</td>\n",
       "    </tr>\n",
       "  </tbody>\n",
       "</table>\n",
       "</div>"
      ],
      "text/plain": [
       "        Date  Dayofweek       Open      Close    Volume  Pct_Change  Change  \\\n",
       "0 2000-01-03          0  97.598048  95.746483   8164300   -1.897133   False   \n",
       "1 2000-01-04          1  94.491508  92.002182   8089800   -2.634444   False   \n",
       "2 2000-01-05          2  92.125648  92.166794  12177900    0.044663    True   \n",
       "3 2000-01-06          3  91.919908  90.685532   6227200   -1.342883   False   \n",
       "4 2000-01-07          4  92.372517  95.952209   8066500    3.875278    True   \n",
       "\n",
       "   Week  Year  \n",
       "0     1  2000  \n",
       "1     1  2000  \n",
       "2     1  2000  \n",
       "3     1  2000  \n",
       "4     1  2000  "
      ]
     },
     "execution_count": 4,
     "metadata": {},
     "output_type": "execute_result"
    }
   ],
   "source": [
    "# Lets take a look at our dataframe after some of that processing\n",
    "spy_df.head()"
   ]
  },
  {
   "cell_type": "code",
   "execution_count": 5,
   "metadata": {},
   "outputs": [],
   "source": [
    "# identify the \"friday\" \"monday\" pairings\n",
    "pairs = []\n",
    "for index, item in spy_df.iterrows():\n",
    "    # given current day, check if the next day belongs to the next week, if so then we can keep current day and the next day\n",
    "    if index+1 < len(spy_df) and item.Week != spy_df.iloc[index+1].Week:\n",
    "        pairs.append((spy_df.iloc[index], spy_df.iloc[index+1]))"
   ]
  },
  {
   "cell_type": "code",
   "execution_count": 6,
   "metadata": {},
   "outputs": [
    {
     "name": "stdout",
     "output_type": "stream",
     "text": [
      "52.84280936454849% of the 598 positive \"Fridays\" were followed by a positive \"Monday\" with an average increase of 0.5694921169309747\n",
      "47.15719063545151% of the 598 positive \"Fridays\" were followed by a negative \"Monday\" with an average decrease of -0.6281685319027377\n",
      "This yields an average change after a positive \"Friday\" of 0.004709001594675536 with standard deviation 0.9774843130697795\n",
      "53.06479859894921% of the 571 negative \"Fridays\" were followed by a positive \"Monday\" with an average increase of 0.667249966724717\n",
      "44.81605351170568% of the 571 negative \"Fridays\" were followed by a negative \"Monday\" with an average decrease of -0.7693877391011102\n",
      "This yields an average change after a negative \"Friday\" of -0.0070388339080705185 with standard deviation 1.0082340297788552\n"
     ]
    }
   ],
   "source": [
    "pos_pos = []\n",
    "pos_neg = []\n",
    "neg_pos = []\n",
    "neg_neg = []\n",
    "for pair in pairs:\n",
    "    day1 = pair[0]\n",
    "    day2 = pair[1]\n",
    "    if day1.Change and day2.Change:\n",
    "        pos_pos.append(day2.Pct_Change)\n",
    "    elif day1.Change and not day2.Change:\n",
    "        pos_neg.append(day2.Pct_Change)\n",
    "    elif not day1.Change and day2.Change:\n",
    "        neg_pos.append(day2.Pct_Change)\n",
    "    else:\n",
    "        neg_neg.append(day2.Pct_Change)\n",
    "\n",
    "total_pos = (pos_pos + pos_neg)\n",
    "total_neg = (neg_pos + neg_neg)\n",
    "avg_pos_pos = st.mean(pos_pos)\n",
    "avg_pos_neg = st.mean(pos_neg)\n",
    "avg_neg_pos = st.mean(neg_pos)\n",
    "avg_neg_neg = st.mean(neg_neg)\n",
    "\n",
    "print(f'{len(pos_pos) * 100/len(total_pos)}% of the {len(total_pos)} positive \"Fridays\" were followed by a positive \"Monday\" with an average increase of {avg_pos_pos}')\n",
    "print(f'{len(pos_neg) * 100/len(total_pos)}% of the {len(total_pos)} positive \"Fridays\" were followed by a negative \"Monday\" with an average decrease of {avg_pos_neg}')\n",
    "print(f'This yields an average change after a positive \"Friday\" of {st.mean(total_pos)} with standard deviation {st.stdev(total_pos)}')\n",
    "print(f'{len(neg_pos) * 100/len(total_neg)}% of the {len(total_neg)} negative \"Fridays\" were followed by a positive \"Monday\" with an average increase of {avg_neg_pos}')\n",
    "print(f'{len(neg_neg) * 100/len(total_pos)}% of the {len(total_neg)} negative \"Fridays\" were followed by a negative \"Monday\" with an average decrease of {avg_neg_neg}')\n",
    "print(f'This yields an average change after a negative \"Friday\" of {st.mean(total_neg)} with standard deviation {st.stdev(total_neg)}')\n"
   ]
  },
  {
   "cell_type": "markdown",
   "metadata": {},
   "source": [
    "# FIX THIS LINE\n",
    "Define a random variable $T_{598}$ that defines the sum of the returns from the last 598 days. \n",
    "Then this variable has approximately a normal distribution by the Central Limit Theorem as $598 > 30$. \n",
    "Then we can define $T_{598} \\approx N(598*\\mu,n*\\sigma^2) \\approx N(598*,n*\\sigma^2)$"
   ]
  },
  {
   "cell_type": "code",
   "execution_count": 7,
   "metadata": {},
   "outputs": [
    {
     "data": {
      "text/plain": [
       "16599.498957870026"
      ]
     },
     "execution_count": 7,
     "metadata": {},
     "output_type": "execute_result"
    }
   ],
   "source": [
    "\n",
    "1000*(1.004709)**(598)"
   ]
  },
  {
   "cell_type": "code",
   "execution_count": 8,
   "metadata": {},
   "outputs": [
    {
     "data": {
      "text/plain": [
       "349552.30029100546"
      ]
     },
     "execution_count": 8,
     "metadata": {},
     "output_type": "execute_result"
    }
   ],
   "source": [
    "\n",
    "598*(0.9774843130697797)*2"
   ]
  },
  {
   "cell_type": "code",
   "execution_count": 9,
   "metadata": {},
   "outputs": [],
   "source": [
    "import math"
   ]
  },
  {
   "cell_type": "code",
   "execution_count": null,
   "metadata": {},
   "outputs": [],
   "source": []
  },
  {
   "cell_type": "code",
   "execution_count": null,
   "metadata": {},
   "outputs": [],
   "source": []
  }
 ],
 "metadata": {
  "interpreter": {
   "hash": "40d3a090f54c6569ab1632332b64b2c03c39dcf918b08424e98f38b5ae0af88f"
  },
  "kernelspec": {
   "display_name": "Python 3.8.5 ('base')",
   "language": "python",
   "name": "python3"
  },
  "language_info": {
   "codemirror_mode": {
    "name": "ipython",
    "version": 3
   },
   "file_extension": ".py",
   "mimetype": "text/x-python",
   "name": "python",
   "nbconvert_exporter": "python",
   "pygments_lexer": "ipython3",
   "version": "3.8.5"
  },
  "orig_nbformat": 4
 },
 "nbformat": 4,
 "nbformat_minor": 2
}
